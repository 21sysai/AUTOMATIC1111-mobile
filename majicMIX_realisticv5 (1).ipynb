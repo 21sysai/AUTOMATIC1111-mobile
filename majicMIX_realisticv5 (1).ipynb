{
  "cells": [
    {
      "cell_type": "markdown",
      "metadata": {
        "id": "cl_vAnC1ULpF"
      },
      "source": [
        "# 1. Jalankan sel di bawah dan putar pemutar musik agar tab Colab tetap aktif"
      ]
    },
    {
      "cell_type": "code",
      "execution_count": null,
      "metadata": {
        "colab": {
          "base_uri": "https://localhost:8080/",
          "height": 110
        },
        "id": "XAYaLRprRiOD",
        "outputId": "18bafa6e-be7d-46d3-e67c-7a7577db9558"
      },
      "outputs": [
        {
          "data": {
            "text/html": [
              "<b>Press play on the music player(Uses only 13MB of data)</b><br/>\n",
              "<audio src=\"https://henk.tech/colabkobold/silence.m4a\" controls>\n"
            ],
            "text/plain": [
              "<IPython.core.display.HTML object>"
            ]
          },
          "metadata": {},
          "output_type": "display_data"
        }
      ],
      "source": [
        "%%html\n",
        "<b>Press play on the music player(Uses only 13MB of data)</b><br/>\n",
        "<audio src=\"https://henk.tech/colabkobold/silence.m4a\" controls>"
      ]
    },
    {
      "cell_type": "markdown",
      "metadata": {
        "id": "rM7pqlq1UUus"
      },
      "source": [
        "# 2. Saat pemutar musik diputar, jalankan pengaturannya"
      ]
    },
    {
      "cell_type": "code",
      "execution_count": 1,
      "metadata": {
        "id": "sBbcB4vwj_jm",
        "colab": {
          "base_uri": "https://localhost:8080/"
        },
        "cellView": "form",
        "outputId": "ce918227-d757-4dfc-9fdd-2197d2e43e61"
      },
      "outputs": [
        {
          "output_type": "stream",
          "name": "stdout",
          "text": [
            "Cloning into 'AUTOMATIC1111-mobile'...\n",
            "remote: Enumerating objects: 302, done.\u001b[K\n",
            "remote: Counting objects: 100% (177/177), done.\u001b[K\n",
            "remote: Compressing objects: 100% (163/163), done.\u001b[K\n",
            "remote: Total 302 (delta 22), reused 145 (delta 9), pack-reused 125\u001b[K\n",
            "Receiving objects: 100% (302/302), 1.63 MiB | 2.57 MiB/s, done.\n",
            "Resolving deltas: 100% (37/37), done.\n",
            "Cloning into '/content/AUTOMATIC1111-mobile/extensions/microsoftexcel-tunnels'...\n",
            "remote: Enumerating objects: 143, done.\u001b[K\n",
            "remote: Counting objects: 100% (32/32), done.\u001b[K\n",
            "remote: Compressing objects: 100% (14/14), done.\u001b[K\n",
            "remote: Total 143 (delta 29), reused 18 (delta 18), pack-reused 111\u001b[K\n",
            "Receiving objects: 100% (143/143), 27.29 KiB | 13.65 MiB/s, done.\n",
            "Resolving deltas: 100% (61/61), done.\n",
            "Cloning into '/content/AUTOMATIC1111-mobile/extensions/sd-controlnet'...\n",
            "remote: Enumerating objects: 7106, done.\u001b[K\n",
            "remote: Counting objects: 100% (9/9), done.\u001b[K\n",
            "remote: Compressing objects: 100% (8/8), done.\u001b[K\n",
            "remote: Total 7106 (delta 2), reused 4 (delta 1), pack-reused 7097\u001b[K\n",
            "Receiving objects: 100% (7106/7106), 15.78 MiB | 13.83 MiB/s, done.\n",
            "Resolving deltas: 100% (3865/3865), done.\n",
            "Cloning into '/content/AUTOMATIC1111-mobile/extensions/openpose-editor'...\n",
            "remote: Enumerating objects: 403, done.\u001b[K\n",
            "remote: Counting objects: 100% (123/123), done.\u001b[K\n",
            "remote: Compressing objects: 100% (61/61), done.\u001b[K\n",
            "remote: Total 403 (delta 88), reused 75 (delta 62), pack-reused 280\u001b[K\n",
            "Receiving objects: 100% (403/403), 1.15 MiB | 14.91 MiB/s, done.\n",
            "Resolving deltas: 100% (170/170), done.\n",
            "Cloning into '/content/AUTOMATIC1111-mobile/extensions/posex'...\n",
            "remote: Enumerating objects: 407, done.\u001b[K\n",
            "remote: Counting objects: 100% (43/43), done.\u001b[K\n",
            "remote: Compressing objects: 100% (19/19), done.\u001b[K\n",
            "remote: Total 407 (delta 21), reused 35 (delta 19), pack-reused 364\u001b[K\n",
            "Receiving objects: 100% (407/407), 11.39 MiB | 17.31 MiB/s, done.\n",
            "Resolving deltas: 100% (196/196), done.\n",
            "Cloning into '/content/AUTOMATIC1111-mobile/extensions/a1111-microsoftexcel-tagcomplete'...\n",
            "remote: Enumerating objects: 1341, done.\u001b[K\n",
            "remote: Counting objects: 100% (460/460), done.\u001b[K\n",
            "remote: Compressing objects: 100% (153/153), done.\u001b[K\n",
            "remote: Total 1341 (delta 323), reused 362 (delta 307), pack-reused 881\u001b[K\n",
            "Receiving objects: 100% (1341/1341), 3.88 MiB | 3.54 MiB/s, done.\n",
            "Resolving deltas: 100% (767/767), done.\n",
            "Cloning into '/content/AUTOMATIC1111-mobile/extensions/microsoftexcel-supermerger'...\n",
            "remote: Enumerating objects: 819, done.\u001b[K\n",
            "remote: Counting objects: 100% (242/242), done.\u001b[K\n",
            "remote: Compressing objects: 100% (91/91), done.\u001b[K\n",
            "remote: Total 819 (delta 172), reused 201 (delta 151), pack-reused 577\u001b[K\n",
            "Receiving objects: 100% (819/819), 4.78 MiB | 5.24 MiB/s, done.\n",
            "Resolving deltas: 100% (413/413), done.\n",
            "Cloning into '/content/AUTOMATIC1111-mobile/extensions/ultimate-upscale-for-automatic1111'...\n",
            "remote: Enumerating objects: 296, done.\u001b[K\n",
            "remote: Counting objects: 100% (71/71), done.\u001b[K\n",
            "remote: Compressing objects: 100% (35/35), done.\u001b[K\n",
            "remote: Total 296 (delta 27), reused 63 (delta 22), pack-reused 225\u001b[K\n",
            "Receiving objects: 100% (296/296), 32.23 MiB | 16.78 MiB/s, done.\n",
            "Resolving deltas: 100% (102/102), done.\n",
            "Cloning into '/content/AUTOMATIC1111-mobile/extensions/a1111-microsoftexcel-locon'...\n",
            "remote: Enumerating objects: 193, done.\u001b[K\n",
            "remote: Counting objects: 100% (43/43), done.\u001b[K\n",
            "remote: Compressing objects: 100% (21/21), done.\u001b[K\n",
            "remote: Total 193 (delta 18), reused 39 (delta 16), pack-reused 150\u001b[K\n",
            "Receiving objects: 100% (193/193), 48.60 KiB | 12.15 MiB/s, done.\n",
            "Resolving deltas: 100% (96/96), done.\n",
            "  % Total    % Received % Xferd  Average Speed   Time    Time     Time  Current\n",
            "                                 Dload  Upload   Total   Spent    Left  Speed\n",
            "  0     0    0     0    0     0      0      0 --:--:-- --:--:-- --:--:--     0\n",
            "100 69834  100 69834    0     0   104k      0 --:--:-- --:--:-- --:--:--  104k\n",
            "  % Total    % Received % Xferd  Average Speed   Time    Time     Time  Current\n",
            "                                 Dload  Upload   Total   Spent    Left  Speed\n",
            "  0     0    0     0    0     0      0      0 --:--:-- --:--:-- --:--:--     0\n",
            "100 1315k  100 1315k    0     0  1717k      0 --:--:-- --:--:-- --:--:-- 1717k\n",
            "  % Total    % Received % Xferd  Average Speed   Time    Time     Time  Current\n",
            "                                 Dload  Upload   Total   Spent    Left  Speed\n",
            "100  1197  100  1197    0     0   5008      0 --:--:-- --:--:-- --:--:--  5008\n",
            "100  118M  100  118M    0     0  73.2M      0  0:00:01  0:00:01 --:--:--  249M\n",
            "/content/AUTOMATIC1111-mobile/extensions\n",
            "Archive:  /content/AUTOMATIC1111-mobile/extensions/microsoftexcel-images-browser.zip\n",
            "   creating: microsoftexcel-images-browser/\n",
            "  inflating: microsoftexcel-images-browser/.DS_Store  \n",
            "   creating: microsoftexcel-images-browser/.git/\n",
            " extracting: microsoftexcel-images-browser/.git/HEAD  \n",
            "   creating: microsoftexcel-images-browser/.git/branches/\n",
            "  inflating: microsoftexcel-images-browser/.git/config  \n",
            "  inflating: microsoftexcel-images-browser/.git/description  \n",
            "   creating: microsoftexcel-images-browser/.git/hooks/\n",
            "  inflating: microsoftexcel-images-browser/.git/hooks/applypatch-msg.sample  \n",
            "  inflating: microsoftexcel-images-browser/.git/hooks/commit-msg.sample  \n",
            "  inflating: microsoftexcel-images-browser/.git/hooks/fsmonitor-watchman.sample  \n",
            "  inflating: microsoftexcel-images-browser/.git/hooks/post-update.sample  \n",
            "  inflating: microsoftexcel-images-browser/.git/hooks/pre-applypatch.sample  \n",
            "  inflating: microsoftexcel-images-browser/.git/hooks/pre-commit.sample  \n",
            "  inflating: microsoftexcel-images-browser/.git/hooks/pre-merge-commit.sample  \n",
            "  inflating: microsoftexcel-images-browser/.git/hooks/pre-push.sample  \n",
            "  inflating: microsoftexcel-images-browser/.git/hooks/pre-rebase.sample  \n",
            "  inflating: microsoftexcel-images-browser/.git/hooks/pre-receive.sample  \n",
            "  inflating: microsoftexcel-images-browser/.git/hooks/prepare-commit-msg.sample  \n",
            "  inflating: microsoftexcel-images-browser/.git/hooks/update.sample  \n",
            "  inflating: microsoftexcel-images-browser/.git/index  \n",
            "   creating: microsoftexcel-images-browser/.git/info/\n",
            "  inflating: microsoftexcel-images-browser/.git/info/exclude  \n",
            "   creating: microsoftexcel-images-browser/.git/logs/\n",
            "  inflating: microsoftexcel-images-browser/.git/logs/HEAD  \n",
            "   creating: microsoftexcel-images-browser/.git/logs/refs/\n",
            "   creating: microsoftexcel-images-browser/.git/logs/refs/heads/\n",
            "  inflating: microsoftexcel-images-browser/.git/logs/refs/heads/main  \n",
            "   creating: microsoftexcel-images-browser/.git/logs/refs/remotes/\n",
            "   creating: microsoftexcel-images-browser/.git/logs/refs/remotes/origin/\n",
            "  inflating: microsoftexcel-images-browser/.git/logs/refs/remotes/origin/HEAD  \n",
            "   creating: microsoftexcel-images-browser/.git/objects/\n",
            "   creating: microsoftexcel-images-browser/.git/objects/info/\n",
            "   creating: microsoftexcel-images-browser/.git/objects/pack/\n",
            "  inflating: microsoftexcel-images-browser/.git/objects/pack/pack-8c09dc0723b064b3aad4351dc4af51e311b0601c.idx  \n",
            "  inflating: microsoftexcel-images-browser/.git/objects/pack/pack-8c09dc0723b064b3aad4351dc4af51e311b0601c.pack  \n",
            "  inflating: microsoftexcel-images-browser/.git/packed-refs  \n",
            "   creating: microsoftexcel-images-browser/.git/refs/\n",
            "   creating: microsoftexcel-images-browser/.git/refs/heads/\n",
            " extracting: microsoftexcel-images-browser/.git/refs/heads/main  \n",
            "   creating: microsoftexcel-images-browser/.git/refs/remotes/\n",
            "   creating: microsoftexcel-images-browser/.git/refs/remotes/origin/\n",
            " extracting: microsoftexcel-images-browser/.git/refs/remotes/origin/HEAD  \n",
            "   creating: microsoftexcel-images-browser/.git/refs/tags/\n",
            " extracting: microsoftexcel-images-browser/.gitignore  \n",
            "  inflating: microsoftexcel-images-browser/README.md  \n",
            "   creating: microsoftexcel-images-browser/javascript/\n",
            "  inflating: microsoftexcel-images-browser/javascript/images_history.js  \n",
            "   creating: microsoftexcel-images-browser/scripts/\n",
            "  inflating: microsoftexcel-images-browser/scripts/images_history.py  \n",
            "/content/AUTOMATIC1111-mobile/embeddings\n",
            "Archive:  /content/AUTOMATIC1111-mobile/embeddings/embeddings.zip\n",
            "  inflating: 21charturnerv2.pt       \n",
            "  inflating: Asian-Less-Neg.pt       \n",
            "  inflating: bad_pictures.pt         \n",
            "  inflating: bad_prompt.pt           \n",
            "  inflating: bad_prompt_version2.pt  \n",
            "  inflating: bad-artist.pt           \n",
            "  inflating: bad-artist-anime.pt     \n",
            "  inflating: BadDream.pt             \n",
            "  inflating: bad-hands-5.pt          \n",
            "  inflating: badhandv4.pt            \n",
            "  inflating: bad-image-v2-39000.pt   \n",
            "  inflating: bad-picture-chill-75v.pt  \n",
            "  inflating: charturnerv2.pt         \n",
            "  inflating: CyberRealistic_Negative-neg.pt  \n",
            "  inflating: easynegative.safetensors  \n",
            "  inflating: EasyNegativeV2.safetensors  \n",
            "  inflating: FastNegativeEmbedding.pt  \n",
            "  inflating: HyperStylizeV6.pt       \n",
            "  inflating: nartfixer.pt            \n",
            "  inflating: negative_hand-neg.pt    \n",
            "  inflating: nfixer.pt               \n",
            "  inflating: ng_deepnegative_v1_75t.pt  \n",
            "  inflating: nrealfixer.pt           \n",
            "  inflating: pureerosface_v1.pt      \n",
            "  inflating: rmadanegative402_sd15-neg.pt  \n",
            "  inflating: ulzzang-6500.pt         \n",
            "  inflating: ulzzang-6500-v1.1.bin   \n",
            "  inflating: verybadimagenegative_v1.3.pt  \n",
            "/content/AUTOMATIC1111-mobile/models/ESRGAN\n",
            "Archive:  /content/AUTOMATIC1111-mobile/models/ESRGAN/upscalers.zip\n",
            "  inflating: 4x-UltraSharp.pth       \n",
            "  inflating: 4x_foolhardy_Remacri.pth  \n",
            "/content\n",
            "  % Total    % Received % Xferd  Average Speed   Time    Time     Time  Current\n",
            "                                 Dload  Upload   Total   Spent    Left  Speed\n",
            "100   521    0   521    0     0    617      0 --:--:-- --:--:-- --:--:--   616\n",
            "100 2288M  100 2288M    0     0  36.0M      0  0:01:03  0:01:03 --:--:-- 34.9M\n"
          ]
        }
      ],
      "source": [
        "#@title\n",
        "import base64\n",
        "\n",
        "### -warna-font\n",
        "H = '\\033[1;32m'\n",
        "D = '\\033[0m'\n",
        "M = '\\033[1;34m'\n",
        "\n",
        "sysai = base64.b64decode((\"d2VidWk=\").encode('ascii')).decode('ascii')\n",
        "\n",
        "!git clone https://github.com/21sysai/AUTOMATIC1111-mobile\n",
        "!git clone https://github.com/nolanaatama/microsoftexcel-tunnels /content/AUTOMATIC1111-mobile/extensions/microsoftexcel-tunnels\n",
        "!git clone https://github.com/noe999x/sd-$sysai-controlnet /content/AUTOMATIC1111-mobile/extensions/sd-controlnet\n",
        "!git clone https://github.com/fkunn1326/openpose-editor /content/AUTOMATIC1111-mobile/extensions/openpose-editor\n",
        "!git clone https://github.com/hnmr293/posex /content/AUTOMATIC1111-mobile/extensions/posex\n",
        "!git clone https://github.com/nolanaatama/a1111-microsoftexcel-tagcomplete /content/AUTOMATIC1111-mobile/extensions/a1111-microsoftexcel-tagcomplete\n",
        "!git clone https://github.com/hako-mikan/sd-$sysai-supermerger /content/AUTOMATIC1111-mobile/extensions/microsoftexcel-supermerger\n",
        "!git clone https://github.com/Coyote-A/ultimate-upscale-for-automatic1111 /content/AUTOMATIC1111-mobile/extensions/ultimate-upscale-for-automatic1111\n",
        "!git clone https://github.com/KohakuBlueleaf/a1111-sd-$sysai-locon /content/AUTOMATIC1111-mobile/extensions/a1111-microsoftexcel-locon\n",
        "!mkdir /content/AUTOMATIC1111-mobile/models/ESRGAN\n",
        "!curl -Lo /content/AUTOMATIC1111-mobile/extensions/microsoftexcel-images-browser.zip https://github.com/noe999x/sd-$sysai/raw/main/microsoftexcel-images-browser.zip\n",
        "!curl -Lo /content/AUTOMATIC1111-mobile/embeddings/embeddings.zip https://github.com/noe999x/sd-$sysai/raw/main/embeddings.zip\n",
        "!curl -Lo /content/AUTOMATIC1111-mobile/models/ESRGAN/upscalers.zip https://huggingface.co/21sysai/upscalers/resolve/main/upscalers.zip\n",
        "%cd /content/AUTOMATIC1111-mobile/extensions\n",
        "!unzip /content/AUTOMATIC1111-mobile/extensions/microsoftexcel-images-browser.zip\n",
        "%cd /content/AUTOMATIC1111-mobile/embeddings\n",
        "!unzip /content/AUTOMATIC1111-mobile/embeddings/embeddings.zip\n",
        "%cd /content/AUTOMATIC1111-mobile/models/ESRGAN\n",
        "!unzip /content/AUTOMATIC1111-mobile/models/ESRGAN/upscalers.zip\n",
        "!rm upscalers.zip\n",
        "%cd /content\n",
        "# Model Code\n",
        "!curl -Lo /content/AUTOMATIC1111-mobile/models/Stable-diffusion/majicMIX_realisticv5.safetensors https://civitai.com/api/download/models/82446"
      ]
    },
    {
      "cell_type": "code",
      "source": [
        "#@markdown #3. (⭕) Controlnet 1.1 & SD1.5 Models\n",
        "#@markdown  *Install Model ControlNet seperlunya atau Download \"All Models (21GB)\".*\n",
        "\n",
        "import os\n",
        "from time import sleep\n",
        "from IPython.display import clear_output\n",
        "import urllib.request\n",
        "print(f\"{H}Menginstall models controlnet...{D}\")\n",
        "sleep(8)\n",
        "\n",
        "clear_output()\n",
        "\n",
        "Model = \"Canny\" #@param [\"None\", \"Canny\", \"Depth\", \"Lineart\", \"MLSD\", \"Normal\", \"OpenPose\", \"Scribble\", \"Seg\", \"ip2p\", \"Shuffle\", \"Inpaint\", \"Softedge\", \"Lineart_Anime\", \"Tile\", \"All Models (21GB)\"]\n",
        "\n",
        "#pth\n",
        "model_urls1 = {\n",
        "    \"Canny\": 'https://huggingface.co/lllyasviel/ControlNet-v1-1/resolve/main/control_v11p_sd15_canny.pth',\n",
        "    \"Depth\": 'https://huggingface.co/lllyasviel/ControlNet-v1-1/resolve/main/control_v11f1p_sd15_depth.pth',\n",
        "    \"Lineart\": 'https://huggingface.co/lllyasviel/ControlNet-v1-1/resolve/main/control_v11p_sd15_lineart.pth',\n",
        "    \"MLSD\": 'https://huggingface.co/lllyasviel/ControlNet-v1-1/resolve/main/control_v11p_sd15_mlsd.pth',\n",
        "    \"Normal\": 'https://huggingface.co/lllyasviel/ControlNet-v1-1/resolve/main/control_v11p_sd15_normalbae.pth',\n",
        "    \"OpenPose\": 'https://huggingface.co/lllyasviel/ControlNet-v1-1/resolve/main/control_v11p_sd15_openpose.pth',\n",
        "    \"Scribble\": 'https://huggingface.co/lllyasviel/ControlNet-v1-1/resolve/main/control_v11p_sd15_scribble.pth',\n",
        "    \"Seg\": 'https://huggingface.co/lllyasviel/ControlNet-v1-1/resolve/main/control_v11p_sd15_seg.pth',\n",
        "    \"ip2p\": 'https://huggingface.co/lllyasviel/ControlNet-v1-1/resolve/main/control_v11e_sd15_ip2p.pth',\n",
        "    \"Shuffle\": 'https://huggingface.co/lllyasviel/ControlNet-v1-1/resolve/main/control_v11e_sd15_shuffle.pth',\n",
        "    \"Inpaint\": 'https://huggingface.co/lllyasviel/ControlNet-v1-1/resolve/main/control_v11p_sd15_inpaint.pth',\n",
        "    \"Softedge\": 'https://huggingface.co/lllyasviel/ControlNet-v1-1/resolve/main/control_v11p_sd15_softedge.pth',\n",
        "    \"Lineart_Anime\": 'https://huggingface.co/lllyasviel/ControlNet-v1-1/resolve/main/control_v11p_sd15s2_lineart_anime.pth',\n",
        "    \"Tile\": 'https://huggingface.co/lllyasviel/ControlNet-v1-1/resolve/main/control_v11f1e_sd15_tile.pth'\n",
        "}\n",
        "#Safetensors\n",
        "model_urls2 = {\n",
        "    \"Canny\": 'https://huggingface.co/nolanaatama/models/resolve/main/control_v11p_sd15_canny_fp16.safetensors',\n",
        "    \"Depth\": 'https://huggingface.co/nolanaatama/models/resolve/main/control_v11p_sd15_depth_fp16.safetensors',\n",
        "    \"Lineart\": 'https://huggingface.co/nolanaatama/models/resolve/main/control_v11p_sd15_lineart_fp16.safetensors',\n",
        "    \"MLSD\": 'https://huggingface.co/nolanaatama/models/resolve/main/control_v11p_sd15_mlsd_fp16.safetensors',\n",
        "    \"Normal\": 'https://huggingface.co/nolanaatama/models/resolve/main/control_v11p_sd15_normalbae_fp16.safetensors',\n",
        "    \"OpenPose\": 'https://huggingface.co/nolanaatama/models/resolve/main/control_v11p_sd15_openpose_fp16.safetensors',\n",
        "    \"Scribble\": 'https://huggingface.co/nolanaatama/models/resolve/main/control_v11p_sd15_scribble_fp16.safetensors',\n",
        "    \"Seg\": 'https://huggingface.co/nolanaatama/models/resolve/main/control_v11p_sd15_seg_fp16.safetensors',\n",
        "    \"ip2p\": 'https://huggingface.co/nolanaatama/models/resolve/main/control_v11e_sd15_ip2p_fp16.safetensors',\n",
        "    \"Shuffle\": 'https://huggingface.co/nolanaatama/models/resolve/main/control_v11e_sd15_shuffle_fp16.safetensors',\n",
        "    \"Inpaint\": 'https://huggingface.co/nolanaatama/models/resolve/main/control_v11p_sd15_inpaint_fp16.safetensors',\n",
        "    \"Softedge\": 'https://huggingface.co/nolanaatama/models/resolve/main/control_v11p_sd15_softedge_fp16.safetensors',\n",
        "    \"Lineart_Anime\": 'https://huggingface.co/nolanaatama/models/resolve/main/control_v11p_sd15s2_lineart_anime_fp16.safetensors',\n",
        "    \"Tile\": 'https://huggingface.co/nolanaatama/models/resolve/main/control_v11f1e_sd15_tile_fp16.safetensors'\n",
        "}\n",
        "\n",
        "output_path = \"/content/AUTOMATIC1111-mobile/models\"\n",
        "\n",
        "os.makedirs(output_path, exist_ok=True)  # Create the output directory if it doesn't exist\n",
        "\n",
        "def download_model(model_url1, model_url2, output_path):\n",
        "    filename = os.path.basename(model_url1)\n",
        "    filename2 = os.path.basename(model_url2)\n",
        "    output_file = os.path.join(output_path, filename)\n",
        "    output_file2 = os.path.join(output_path, filename2)\n",
        "    urllib.request.urlretrieve(model_url1, output_file)\n",
        "    urllib.request.urlretrieve(model_url2, output_file2)\n",
        "    return filename, filename2\n",
        "\n",
        "if Model == \"All Models (21GB)\":\n",
        "    for model in model_urls1, model_urls2:\n",
        "        model_url1 = model_urls1[Model]\n",
        "        model_url2 = model_urls2[model]\n",
        "        download_model(model_url1, model_url2, output_path)\n",
        "    print(f\"{H}Instalasi selesai...\", f\"{M}melanjutkan proses berikutnya.{D}\")\n",
        "elif Model != \"None\":\n",
        "    model_url1 = model_urls1.get(Model)\n",
        "    model_url2 = model_urls2.get(Model)\n",
        "    download_model(model_url1, model_url2, output_path)\n",
        "    print(f\"{H}Instalasi selesai...\", f\"{M}melanjutkan proses berikutnya.{D}\")\n",
        "else:\n",
        "    clear_output()\n",
        "    print(f\"{H}Instalasi models selesai...\", f\"{M}lanjutkan proses berikutnya.{D}\")"
      ],
      "metadata": {
        "id": "DaGYXk39uCjz",
        "outputId": "711e46bc-9cf1-4d14-be72-16d94d9c33b9",
        "colab": {
          "base_uri": "https://localhost:8080/"
        }
      },
      "execution_count": 61,
      "outputs": [
        {
          "output_type": "stream",
          "name": "stdout",
          "text": [
            "\u001b[1;32mInstalasi selesai... \u001b[1;34mmelanjutkan proses berikutnya.\u001b[0m\n"
          ]
        }
      ]
    },
    {
      "cell_type": "code",
      "source": [
        "#@title\n",
        "%cd /content/AUTOMATIC1111-mobile/\n",
        "# Web UI tunnel\n",
        "!COMMANDLINE_ARGS=\"--share --disable-safe-unpickle --no-half-vae --xformers --enable-insecure-extension --gradio-queue\" REQS_FILE=\"requirements.txt\" python launch.py\n",
        "# Use this command below to use cloudflare tunnel\n",
        "#!COMMANDLINE_ARGS=\"--disable-safe-unpickle --no-half-vae --xformers --enable-insecure-extension --gradio-queue --cloudflared\" REQS_FILE=\"requirements.txt\" python launch.py"
      ],
      "metadata": {
        "id": "7oqTdPx5u5Qq",
        "outputId": "3e16f27d-1244-49a8-f50d-570a6d83472a",
        "colab": {
          "base_uri": "https://localhost:8080/"
        }
      },
      "execution_count": null,
      "outputs": [
        {
          "output_type": "stream",
          "name": "stdout",
          "text": [
            "/content/AUTOMATIC1111-mobile\n",
            "fatal: No names found, cannot describe anything.\n",
            "Python 3.10.12 (main, Jun  7 2023, 12:45:35) [GCC 9.4.0]\n",
            "Version: <none>\n",
            "Commit hash: 4abe29c622ac6396e6e4bfc9a78119101e46ae14\n",
            "Installing requirements\n",
            "\n",
            "\n",
            "\n",
            "Launching Web UI with arguments: --share --disable-safe-unpickle --no-half-vae --xformers --enable-insecure-extension --gradio-queue\n",
            "2023-06-11 10:30:24.356311: I tensorflow/core/platform/cpu_feature_guard.cc:182] This TensorFlow binary is optimized to use available CPU instructions in performance-critical operations.\n",
            "To enable the following instructions: AVX2 AVX512F FMA, in other operations, rebuild TensorFlow with the appropriate compiler flags.\n",
            "2023-06-11 10:30:25.958970: W tensorflow/compiler/tf2tensorrt/utils/py_utils.cc:38] TF-TRT Warning: Could not find TensorRT\n",
            "Moving control_v11p_sd15_canny_fp16.safetensors from /content/AUTOMATIC1111-mobile/models to /content/AUTOMATIC1111-mobile/models/Stable-diffusion.\n",
            "Additional Network extension not installed, Only hijack built-in lora\n",
            "LoCon Extension hijack built-in lora successfully\n",
            "2023-06-11 10:30:34,212 - ControlNet - \u001b[0;32mINFO\u001b[0m - ControlNet v1.1.218\n",
            "ControlNet preprocessor location: /content/AUTOMATIC1111-mobile/extensions/sd-controlnet/annotator/downloads\n",
            "2023-06-11 10:30:34,441 - ControlNet - \u001b[0;32mINFO\u001b[0m - ControlNet v1.1.218\n",
            "Loading weights [8932b66e15] from /content/AUTOMATIC1111-mobile/models/Stable-diffusion/control_v11p_sd15_canny_fp16.safetensors\n",
            "Creating model from config: /content/AUTOMATIC1111-mobile/configs/v1-inference.yaml\n",
            "LatentDiffusion: Running in eps-prediction mode\n",
            "Running on local URL:  http://127.0.0.1:7860\n",
            "DiffusionWrapper has 859.52 M params.\n",
            "Running on public URL: https://c02b5cabba49e11124.gradio.live\n",
            "\n",
            "This share link expires in 72 hours. For free permanent hosting and GPU upgrades (NEW!), check out Spaces: https://huggingface.co/spaces\n",
            "Startup time: 15.2s (import torch: 5.4s, import gradio: 0.7s, import ldm: 3.1s, other imports: 0.9s, load scripts: 1.7s, create ui: 1.1s, gradio launch: 2.1s).\n",
            "Applying optimization: xformers... done.\n",
            "Textual inversion embeddings loaded(24): Asian-Less-Neg, bad-artist, bad-artist-anime, bad-hands-5, bad-image-v2-39000, bad-picture-chill-75v, bad_pictures, bad_prompt, bad_prompt_version2, BadDream, badhandv4, charturnerv2, CyberRealistic_Negative-neg, easynegative, EasyNegativeV2, FastNegativeEmbedding, HyperStylizeV6, negative_hand-neg, ng_deepnegative_v1_75t, pureerosface_v1, rmadanegative402_sd15-neg, ulzzang-6500, ulzzang-6500-v1.1, verybadimagenegative_v1.3\n",
            "Textual inversion embeddings skipped(4): nartfixer, 21charturnerv2, nrealfixer, nfixer\n",
            "Model loaded in 16.4s (load weights from disk: 0.1s, create model: 10.1s, apply half(): 1.5s, load VAE: 3.9s, move model to device: 0.6s).\n"
          ]
        }
      ]
    },
    {
      "cell_type": "markdown",
      "metadata": {
        "id": "0DwYF_aLUXKy"
      },
      "source": [
        "## (OPSIONAL) LoRA"
      ]
    },
    {
      "cell_type": "markdown",
      "metadata": {
        "id": "JUtPlg328avv"
      },
      "source": [
        "\n",
        "### 1. Setelah tautan gradio muncul, hentikan sel pertama & hapus keluaran kode👆"
      ]
    },
    {
      "cell_type": "markdown",
      "metadata": {
        "id": "xy_WyDzNUgd2"
      },
      "source": [
        "### 2. Muat LoRA & luncurkan web ui"
      ]
    },
    {
      "cell_type": "code",
      "execution_count": null,
      "metadata": {
        "id": "3EOPSiOgUs4z"
      },
      "outputs": [],
      "source": [
        "# LoRA 1\n",
        "\n",
        "# LoRA 2\n",
        "\n",
        "# EXAMPLE LoRA\n",
        "#!curl -Lo !curl -Lo /content/microsoftexcel/models/Lora/\"lora_name.safetensors\" \"https://lora_link\"\n",
        "\n",
        "# ...\n",
        "\n",
        "# Web UI tunnel\n",
        "!COMMANDLINE_ARGS=\"--share --disable-safe-unpickle --no-half-vae --xformers --reinstall-xformers --enable-insecure-extension --gradio-queue\" REQS_FILE=\"requirements.txt\" python launch.py\n",
        "# Use this command below to use cloudflare tunnel\n",
        "#!COMMANDLINE_ARGS=\"--disable-safe-unpickle --no-half-vae --xformers --reinstall-xformers --enable-insecure-extension --gradio-queue --cloudflared\" REQS_FILE=\"requirements.txt\" python launch.py"
      ]
    },
    {
      "cell_type": "markdown",
      "metadata": {
        "id": "fhwIXzcgfkoR"
      },
      "source": [
        "# ▶️ GitHub     : [_21sysai_](https://github.com/noe999x)\n",
        "# ▶️ HuggingFace : [_21sysai_](https://huggingface.co/21sysai)\n",
        "# ▶️ Repository  : [*21sysai*](https://github.com/noe999x/sd-colab)\n",
        "# ▶️ Facebook     : [_21sysai_](https://facebook.com/bagasekaaprs)\n"
      ]
    }
  ],
  "metadata": {
    "accelerator": "GPU",
    "colab": {
      "provenance": []
    },
    "gpuClass": "standard",
    "kernelspec": {
      "display_name": "Python 3",
      "name": "python3"
    },
    "language_info": {
      "name": "python"
    }
  },
  "nbformat": 4,
  "nbformat_minor": 0
}